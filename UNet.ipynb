{
  "nbformat": 4,
  "nbformat_minor": 0,
  "metadata": {
    "colab": {
      "name": "Rectify.ipynb",
      "provenance": [],
      "collapsed_sections": []
    },
    "kernelspec": {
      "name": "python3",
      "display_name": "Python 3"
    },
    "language_info": {
      "name": "python"
    },
    "accelerator": "GPU",
    "gpuClass": "standard"
  },
  "cells": [
    {
      "cell_type": "code",
      "execution_count": 2,
      "metadata": {
        "id": "jrUwD_qdgJmx"
      },
      "outputs": [],
      "source": [
        "import tensorflow as tf\n",
        "from tensorflow import keras\n",
        "from tensorflow.keras import layers,initializers\n",
        "import numpy as np\n",
        "import matplotlib.pyplot as plt\n",
        "from keras.models import load_model\n",
        "import os\n",
        "from tensorflow.keras import optimizers\n",
        "from PIL import Image\n",
        "# device_name = tf.test.gpu_device_name()\n",
        "# if device_name != '/device:GPU:0':\n",
        "#   raise SystemError('GPU device not found')\n",
        "# print('Found GPU at: {}'.format(device_name))"
      ]
    },
    {
      "cell_type": "code",
      "source": [
        "def augment(imgarray):\n",
        "  fliplist=[]\n",
        "  for img in imgarray:\n",
        "    mirror=np.flip(img,axis=1)\n",
        "    fliplist.append(mirror)\n",
        "  imgarray.extend(fliplist)\n",
        "  return imgarray"
      ],
      "metadata": {
        "id": "5dZ14n53jnd5"
      },
      "execution_count": 3,
      "outputs": []
    },
    {
      "cell_type": "code",
      "source": [
        "from google.colab import drive\n",
        "drive.mount('/content/drive')"
      ],
      "metadata": {
        "colab": {
          "base_uri": "https://localhost:8080/"
        },
        "id": "vcsDU6RmjvNe",
        "outputId": "e1418b8c-c464-43ac-d97c-38561aac312a"
      },
      "execution_count": 4,
      "outputs": [
        {
          "output_type": "stream",
          "name": "stdout",
          "text": [
            "Mounted at /content/drive\n"
          ]
        }
      ]
    },
    {
      "cell_type": "code",
      "source": [
        "def rescale(img):\n",
        "  imresize=img.resize((128,128))\n",
        "  return imresize"
      ],
      "metadata": {
        "id": "CFQsE9dxjy4w"
      },
      "execution_count": 5,
      "outputs": []
    },
    {
      "cell_type": "code",
      "source": [
        "def changedim(arr):\n",
        "  fg=np.where(arr>0,1,0)\n",
        "  bg=np.where(arr>0,0,1)\n",
        "  out=np.stack((fg,bg),axis=2)\n",
        "  return out"
      ],
      "metadata": {
        "id": "i0uf0zaY3ooh"
      },
      "execution_count": 6,
      "outputs": []
    },
    {
      "cell_type": "code",
      "source": [
        "def formimg(arr):\n",
        "  fg=arr[:,:,0]\n",
        "  bg=arr[:,:,1]\n",
        "  img=np.where(fg>bg,1,0)\n",
        "  return img"
      ],
      "metadata": {
        "id": "ce8o7-8l7M0c"
      },
      "execution_count": 7,
      "outputs": []
    },
    {
      "cell_type": "code",
      "source": [
        "path=os.getcwd()+'/drive/MyDrive'\n",
        "path1=path+'/test/'\n",
        "filelist=[]\n",
        "for filename in os.listdir(path1):\n",
        "    filelist.append(filename)"
      ],
      "metadata": {
        "id": "J3w7Eh5QkDUR"
      },
      "execution_count": 8,
      "outputs": []
    },
    {
      "cell_type": "code",
      "source": [
        "path2=path+'/Output/'\n",
        "path1=path+'/test/'\n",
        "image=[]\n",
        "mask=[]\n",
        "n=len(filelist)\n",
        "for i in range(0,n):\n",
        "    print(i+1)\n",
        "    filepath=path1+filelist[i]\n",
        "    im=(Image.open(filepath)).convert('RGB')\n",
        "    im=rescale(im)\n",
        "    image.append((np.asarray(im))/255)\n",
        "    filepath=path2+filelist[i]\n",
        "    im=(Image.open(filepath)).convert('L')\n",
        "    im=rescale(im)\n",
        "    arr=(np.asarray(im))/255\n",
        "    mask.append(changedim(arr))"
      ],
      "metadata": {
        "colab": {
          "base_uri": "https://localhost:8080/"
        },
        "id": "6_W5tS8xkGgV",
        "outputId": "acc38dce-c77d-40bc-c051-645ba85a6049"
      },
      "execution_count": 9,
      "outputs": [
        {
          "output_type": "stream",
          "name": "stdout",
          "text": [
            "1\n",
            "2\n",
            "3\n",
            "4\n",
            "5\n",
            "6\n",
            "7\n",
            "8\n",
            "9\n",
            "10\n",
            "11\n",
            "12\n",
            "13\n",
            "14\n",
            "15\n",
            "16\n",
            "17\n",
            "18\n"
          ]
        }
      ]
    },
    {
      "cell_type": "code",
      "source": [
        "image=augment(image)\n",
        "mask=augment(mask)"
      ],
      "metadata": {
        "id": "jqHVkz5CkKBU"
      },
      "execution_count": 10,
      "outputs": []
    },
    {
      "cell_type": "code",
      "source": [
        "img1=Image.fromarray((image[1]*255).astype('uint8'), 'RGB')\n",
        "img1"
      ],
      "metadata": {
        "id": "8-SvDjl4kOGA",
        "colab": {
          "base_uri": "https://localhost:8080/",
          "height": 145
        },
        "outputId": "6f3fc7af-7a85-4e80-c4a0-0ff7b2c4926d"
      },
      "execution_count": 11,
      "outputs": [
        {
          "output_type": "execute_result",
          "data": {
            "text/plain": [
              "<PIL.Image.Image image mode=RGB size=128x128 at 0x7FB9B83FE750>"
            ],
            "image/png": "[encoded data removed]"
          },
          "metadata": {},
          "execution_count": 11
        }
      ]
    },
    {
      "cell_type": "code",
      "source": [
        "img2=Image.fromarray((formimg(mask[1])*255).astype('uint8'),'L')\n",
        "img2"
      ],
      "metadata": {
        "id": "z-d2H5hhkaZn",
        "colab": {
          "base_uri": "https://localhost:8080/",
          "height": 145
        },
        "outputId": "88c37d9b-03c1-40c2-b3d3-e85b19638aab"
      },
      "execution_count": 12,
      "outputs": [
        {
          "output_type": "execute_result",
          "data": {
            "text/plain": [
              "<PIL.Image.Image image mode=L size=128x128 at 0x7FB9B8410ED0>"
            ],
            "image/png": "[encoded data removed]"
          },
          "metadata": {},
          "execution_count": 12
        }
      ]
    },
    {
      "cell_type": "code",
      "source": [
        "def model():\n",
        "  input=layers.Input(shape=(128,128,3))\n",
        "  initializer=initializers.HeNormal()\n",
        "\n",
        "  #downsampling\n",
        "  #layer 1\n",
        "  a1=layers.Conv2D(64,3,padding='same',activation='relu',kernel_initializer=initializer)(input)\n",
        "  a2=layers.Conv2D(64,3,padding='same',activation='relu',kernel_initializer=initializer)(a1)\n",
        "  p1=layers.MaxPooling2D(pool_size=(2, 2), strides=None, padding=\"valid\")(a2)\n",
        "  #layer 2\n",
        "  b1=layers.Conv2D(128,3,padding='same',activation='relu',kernel_initializer=initializer)(p1)\n",
        "  b2=layers.Conv2D(128,3,padding='same',activation='relu',kernel_initializer=initializer)(b1)\n",
        "  p2=layers.MaxPooling2D(pool_size=(2, 2), strides=None, padding=\"valid\")(b2)\n",
        "  #layer 3\n",
        "  c1=layers.Conv2D(256,3,padding='same',activation='relu',kernel_initializer=initializer)(p2)\n",
        "  c2=layers.Conv2D(256,3,padding='same',activation='relu',kernel_initializer=initializer)(c1)\n",
        "  p3=layers.MaxPooling2D(pool_size=(2, 2), strides=None, padding=\"valid\")(c2)\n",
        "  #layer 4\n",
        "  d1=layers.Conv2D(512,3,padding='same',activation='relu',kernel_initializer=initializer)(p3)\n",
        "  d2=layers.Conv2D(512,3,padding='same',activation='relu',kernel_initializer=initializer)(d1)\n",
        "  p4=layers.MaxPooling2D(pool_size=(2, 2), strides=None, padding=\"valid\")(d2)\n",
        "\n",
        "  #bottleneck layer\n",
        "  #layer 5\n",
        "  e1=layers.Conv2D(1024,3,padding='same',activation='relu',kernel_initializer=initializer)(p4)\n",
        "  e2=layers.Conv2D(1024,3,padding='same',activation='relu',kernel_initializer=initializer)(e1)\n",
        "\n",
        "  #upsampling\n",
        "  #layer 6\n",
        "  u1=layers.Conv2DTranspose(512,(2,2),strides=2)(e2)\n",
        "  f1=layers.concatenate([u1,d2])\n",
        "  f2=layers.Conv2D(512,3,padding='same',activation='relu',kernel_initializer=initializer)(f1)\n",
        "  f3=layers.Conv2D(512,3,padding='same',activation='relu',kernel_initializer=initializer)(f2)\n",
        "  #layer 7\n",
        "  u2=layers.Conv2DTranspose(256,(2,2),strides=2)(f3)\n",
        "  g1=layers.concatenate([u2,c2])\n",
        "  g2=layers.Conv2D(256,3,padding='same',activation='relu',kernel_initializer=initializer)(g1)\n",
        "  g3=layers.Conv2D(256,3,padding='same',activation='relu',kernel_initializer=initializer)(g2)\n",
        "  #layer 8\n",
        "  u3=layers.Conv2DTranspose(128,(2,2),strides=2)(g3)\n",
        "  h1=layers.concatenate([u3,b2])\n",
        "  h2=layers.Conv2D(128,3,padding='same',activation='relu',kernel_initializer=initializer)(h1)\n",
        "  h3=layers.Conv2D(128,3,padding='same',activation='relu',kernel_initializer=initializer)(h2)\n",
        "  #layer 9\n",
        "  u4=layers.Conv2DTranspose(64,(2,2),strides=2)(h3)\n",
        "  i1=layers.concatenate([u4,a2])\n",
        "  i2=layers.Conv2D(64,3,padding='same',activation='relu',kernel_initializer=initializer)(i1)\n",
        "  i3=layers.Conv2D(64,3,padding='same',activation='relu',kernel_initializer=initializer)(i2)\n",
        "\n",
        "  output=layers.Conv2D(2,1,padding='same',activation='softmax')(i3)\n",
        "  cnn=tf.keras.Model(input,output,name='U-Net')\n",
        "  return cnn"
      ],
      "metadata": {
        "id": "7Xs3TRukj1I3"
      },
      "execution_count": null,
      "outputs": []
    },
    {
      "cell_type": "code",
      "source": [
        "unet=model()"
      ],
      "metadata": {
        "id": "ffdrg0K6ki41"
      },
      "execution_count": null,
      "outputs": []
    },
    {
      "cell_type": "code",
      "source": [
        "optim=optimizers.Adam()\n",
        "unet.compile(optimizer=optim,loss='binary_crossentropy',metrics='accuracy')"
      ],
      "metadata": {
        "id": "VgXezVMckmMp"
      },
      "execution_count": null,
      "outputs": []
    },
    {
      "cell_type": "code",
      "source": [
        "inputs=np.array([x for x in image])\n",
        "outputs=np.array([x for x in mask])"
      ],
      "metadata": {
        "id": "Mbj4-wNTkojW"
      },
      "execution_count": 13,
      "outputs": []
    },
    {
      "cell_type": "code",
      "source": [
        "tf.config.run_functions_eagerly(True)\n",
        "history=unet.fit(inputs,outputs,batch_size=20,epochs=20,shuffle=True)"
      ],
      "metadata": {
        "id": "clK4AnzXkqrr",
        "colab": {
          "base_uri": "https://localhost:8080/"
        },
        "outputId": "9318b60c-af74-481a-d1b0-cf5743e0b5ae"
      },
      "execution_count": null,
      "outputs": [
        {
          "output_type": "stream",
          "name": "stderr",
          "text": [
            "/usr/local/lib/python3.7/dist-packages/tensorflow/python/data/ops/structured_function.py:265: UserWarning: Even though the `tf.config.experimental_run_functions_eagerly` option is set, this option does not apply to tf.data functions. To force eager execution of tf.data functions, please use `tf.data.experimental.enable_debug_mode()`.\n",
            "  \"Even though the `tf.config.experimental_run_functions_eagerly` \"\n"
          ]
        },
        {
          "output_type": "stream",
          "name": "stdout",
          "text": [
            "Epoch 1/20\n",
            "50/50 [==============================] - 16s 321ms/step - loss: 0.2941 - accuracy: 0.8786\n",
            "Epoch 2/20\n",
            "50/50 [==============================] - 16s 327ms/step - loss: 0.2385 - accuracy: 0.9035\n",
            "Epoch 3/20\n",
            "50/50 [==============================] - 16s 328ms/step - loss: 0.1992 - accuracy: 0.9215\n",
            "Epoch 4/20\n",
            "50/50 [==============================] - 16s 325ms/step - loss: 0.1633 - accuracy: 0.9364\n",
            "Epoch 5/20\n",
            "50/50 [==============================] - 16s 322ms/step - loss: 0.1409 - accuracy: 0.9458\n",
            "Epoch 6/20\n",
            "50/50 [==============================] - 16s 323ms/step - loss: 0.1238 - accuracy: 0.9531\n",
            "Epoch 7/20\n",
            "50/50 [==============================] - 16s 325ms/step - loss: 0.1096 - accuracy: 0.9585\n",
            "Epoch 8/20\n",
            "50/50 [==============================] - 16s 325ms/step - loss: 0.1004 - accuracy: 0.9619\n",
            "Epoch 9/20\n",
            "50/50 [==============================] - 16s 325ms/step - loss: 0.0937 - accuracy: 0.9643\n",
            "Epoch 10/20\n",
            "50/50 [==============================] - 16s 325ms/step - loss: 0.0858 - accuracy: 0.9670\n",
            "Epoch 11/20\n",
            "50/50 [==============================] - 16s 324ms/step - loss: 0.0779 - accuracy: 0.9697\n",
            "Epoch 12/20\n",
            "50/50 [==============================] - 16s 325ms/step - loss: 0.0757 - accuracy: 0.9706\n",
            "Epoch 13/20\n",
            "50/50 [==============================] - 16s 325ms/step - loss: 0.0714 - accuracy: 0.9721\n",
            "Epoch 14/20\n",
            "50/50 [==============================] - 16s 324ms/step - loss: 0.0688 - accuracy: 0.9730\n",
            "Epoch 15/20\n",
            "50/50 [==============================] - 16s 324ms/step - loss: 0.0653 - accuracy: 0.9742\n",
            "Epoch 16/20\n",
            "50/50 [==============================] - 16s 324ms/step - loss: 0.0623 - accuracy: 0.9753\n",
            "Epoch 17/20\n",
            "50/50 [==============================] - 16s 324ms/step - loss: 0.0603 - accuracy: 0.9760\n",
            "Epoch 18/20\n",
            "50/50 [==============================] - 16s 324ms/step - loss: 0.0591 - accuracy: 0.9765\n",
            "Epoch 19/20\n",
            "50/50 [==============================] - 16s 325ms/step - loss: 0.0570 - accuracy: 0.9772\n",
            "Epoch 20/20\n",
            "50/50 [==============================] - 16s 324ms/step - loss: 0.0562 - accuracy: 0.9774\n"
          ]
        }
      ]
    },
    {
      "cell_type": "code",
      "source": [
        "ind=1\n",
        "inp=image[0:18]\n",
        "imgs=np.array([x for x in inp])\n",
        "out=unet.predict(imgs)"
      ],
      "metadata": {
        "id": "EJclx9mlks8F"
      },
      "execution_count": 19,
      "outputs": []
    },
    {
      "cell_type": "code",
      "source": [
        "imgpred=[]\n",
        "for i in out:\n",
        "  img=Image.fromarray((formimg(i)*255).astype('uint8'),'L')\n",
        "  imgpred.append(img)"
      ],
      "metadata": {
        "id": "T_qKVrHpTnjH"
      },
      "execution_count": 20,
      "outputs": []
    },
    {
      "cell_type": "code",
      "source": [
        "Image.fromarray((inp[17]*255).astype('uint8'),'RGB')"
      ],
      "metadata": {
        "id": "9xpI1P73k48B",
        "colab": {
          "base_uri": "https://localhost:8080/",
          "height": 145
        },
        "outputId": "d1403268-c567-499f-98e7-95ce14a69280"
      },
      "execution_count": 55,
      "outputs": [
        {
          "output_type": "execute_result",
          "data": {
            "text/plain": [
              "<PIL.Image.Image image mode=RGB size=128x128 at 0x7FB9B4782350>"
            ],
            "image/png": "[encoded data removed]"
          },
          "metadata": {},
          "execution_count": 55
        }
      ]
    },
    {
      "cell_type": "code",
      "source": [
        "imgpred[17]"
      ],
      "metadata": {
        "colab": {
          "base_uri": "https://localhost:8080/",
          "height": 145
        },
        "id": "akz6vQoiT4qw",
        "outputId": "4e1c8ce4-a018-4e79-bc4d-f5b65845e356"
      },
      "execution_count": 56,
      "outputs": [
        {
          "output_type": "execute_result",
          "data": {
            "text/plain": [
              "<PIL.Image.Image image mode=L size=128x128 at 0x7FB9B5FA9B90>"
            ],
            "image/png": "[encoded data removed]"
          },
          "metadata": {},
          "execution_count": 56
        }
      ]
    },
    {
      "cell_type": "code",
      "source": [
        "unet.save('/content/drive/MyDrive/Model/train.h5')"
      ],
      "metadata": {
        "id": "xrrDarRWlA_2"
      },
      "execution_count": null,
      "outputs": []
    },
    {
      "cell_type": "code",
      "source": [
        "unet=load_model('/content/drive/MyDrive/Model/train.h5')"
      ],
      "metadata": {
        "id": "mWqWqhislv8q"
      },
      "execution_count": 14,
      "outputs": []
    },
    {
      "cell_type": "code",
      "source": [
        "unet.evaluate(inputs,outputs)"
      ],
      "metadata": {
        "id": "7evgC4gSfuI6",
        "colab": {
          "base_uri": "https://localhost:8080/"
        },
        "outputId": "6d158574-54b3-4cbf-a080-327484907dc5"
      },
      "execution_count": 57,
      "outputs": [
        {
          "output_type": "stream",
          "name": "stdout",
          "text": [
            "2/2 [==============================] - 16s 2s/step - loss: 0.6969 - accuracy: 0.8462\n"
          ]
        },
        {
          "output_type": "execute_result",
          "data": {
            "text/plain": [
              "[0.6969045996665955, 0.8462287187576294]"
            ]
          },
          "metadata": {},
          "execution_count": 57
        }
      ]
    },
    {
      "cell_type": "code",
      "source": [
        ""
      ],
      "metadata": {
        "id": "QpZhm686Viz7"
      },
      "execution_count": null,
      "outputs": []
    }
  ]
}